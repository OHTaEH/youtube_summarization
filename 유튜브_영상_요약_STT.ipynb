{
  "cells": [
    {
      "cell_type": "markdown",
      "metadata": {
        "id": "view-in-github",
        "colab_type": "text"
      },
      "source": [
        "<a href=\"https://colab.research.google.com/github/OHTaEH/youtube_summarization/blob/main/%EC%9C%A0%ED%8A%9C%EB%B8%8C_%EC%98%81%EC%83%81_%EC%9A%94%EC%95%BD_STT.ipynb\" target=\"_parent\"><img src=\"https://colab.research.google.com/assets/colab-badge.svg\" alt=\"Open In Colab\"/></a>"
      ]
    },
    {
      "cell_type": "markdown",
      "metadata": {
        "id": "78Xoo7NZTn6F"
      },
      "source": [
        "# YouTube Video Summarization\n",
        "\n",
        "1. 유튜브 영상 다운로드 (음성만 다운로드, mp3) - PyTube\n",
        "2. Speech to Text (Transcribe) - OpenAI Whisper (Local)\n",
        "3. **Map-reduce** summariation - LangChain, OpenAI ChatGPT API"
      ]
    },
    {
      "cell_type": "code",
      "execution_count": null,
      "metadata": {
        "id": "ABRvFlQQga9f",
        "outputId": "5ddca9e5-e487-4a18-8204-471d13fc7108"
      },
      "outputs": [
        {
          "name": "stdout",
          "output_type": "stream",
          "text": [
            "True\n"
          ]
        }
      ],
      "source": [
        "import torch\n",
        "print(torch.cuda.is_available())"
      ]
    },
    {
      "cell_type": "code",
      "execution_count": null,
      "metadata": {
        "colab": {
          "base_uri": "https://localhost:8080/"
        },
        "id": "qEWAygaxWfZs",
        "outputId": "084a00bc-6fea-458b-c8b2-bc6e6d9875a7"
      },
      "outputs": [
        {
          "name": "stdout",
          "output_type": "stream",
          "text": [
            "\u001b[33m\r0% [Working]\u001b[0m\r            \rGet:1 https://cloud.r-project.org/bin/linux/ubuntu jammy-cran40/ InRelease [3,626 B]\n",
            "Hit:2 https://developer.download.nvidia.com/compute/cuda/repos/ubuntu2204/x86_64  InRelease\n",
            "Hit:3 http://archive.ubuntu.com/ubuntu jammy InRelease\n",
            "Get:4 http://security.ubuntu.com/ubuntu jammy-security InRelease [110 kB]\n",
            "Get:5 http://archive.ubuntu.com/ubuntu jammy-updates InRelease [119 kB]\n",
            "Hit:6 https://ppa.launchpadcontent.net/c2d4u.team/c2d4u4.0+/ubuntu jammy InRelease\n",
            "Get:7 http://security.ubuntu.com/ubuntu jammy-security/main amd64 Packages [1,081 kB]\n",
            "Hit:8 https://ppa.launchpadcontent.net/deadsnakes/ppa/ubuntu jammy InRelease\n",
            "Get:9 http://archive.ubuntu.com/ubuntu jammy-backports InRelease [109 kB]\n",
            "Get:10 http://archive.ubuntu.com/ubuntu jammy-updates/main amd64 Packages [1,343 kB]\n",
            "Hit:11 https://ppa.launchpadcontent.net/graphics-drivers/ppa/ubuntu jammy InRelease\n",
            "Get:12 http://security.ubuntu.com/ubuntu jammy-security/universe amd64 Packages [1,004 kB]\n",
            "Get:13 http://archive.ubuntu.com/ubuntu jammy-updates/universe amd64 Packages [1,269 kB]\n",
            "Hit:14 https://ppa.launchpadcontent.net/ubuntugis/ppa/ubuntu jammy InRelease\n",
            "Fetched 5,038 kB in 3s (1,522 kB/s)\n",
            "Reading package lists... Done\n",
            "Building dependency tree... Done\n",
            "Reading state information... Done\n",
            "21 packages can be upgraded. Run 'apt list --upgradable' to see them.\n",
            "Reading package lists... Done\n",
            "Building dependency tree... Done\n",
            "Reading state information... Done\n",
            "ffmpeg is already the newest version (7:4.4.2-0ubuntu0.22.04.1).\n",
            "0 upgraded, 0 newly installed, 0 to remove and 21 not upgraded.\n",
            "\u001b[2K     \u001b[90m━━━━━━━━━━━━━━━━━━━━━━━━━━━━━━━━━━━━━━\u001b[0m \u001b[32m794.3/794.3 kB\u001b[0m \u001b[31m14.5 MB/s\u001b[0m eta \u001b[36m0:00:00\u001b[0m\n",
            "\u001b[?25h  Installing build dependencies ... \u001b[?25l\u001b[?25hdone\n",
            "  Getting requirements to build wheel ... \u001b[?25l\u001b[?25hdone\n",
            "  Preparing metadata (pyproject.toml) ... \u001b[?25l\u001b[?25hdone\n",
            "\u001b[2K     \u001b[90m━━━━━━━━━━━━━━━━━━━━━━━━━━━━━━━━━━━━━━━━\u001b[0m \u001b[32m57.6/57.6 kB\u001b[0m \u001b[31m7.2 MB/s\u001b[0m eta \u001b[36m0:00:00\u001b[0m\n",
            "\u001b[2K     \u001b[90m━━━━━━━━━━━━━━━━━━━━━━━━━━━━━━━━━━━━━━━━\u001b[0m \u001b[32m1.7/1.7 MB\u001b[0m \u001b[31m57.5 MB/s\u001b[0m eta \u001b[36m0:00:00\u001b[0m\n",
            "\u001b[?25h  Building wheel for openai-whisper (pyproject.toml) ... \u001b[?25l\u001b[?25hdone\n",
            "\u001b[2K     \u001b[90m━━━━━━━━━━━━━━━━━━━━━━━━━━━━━━━━━━━━━━━━\u001b[0m \u001b[32m77.0/77.0 kB\u001b[0m \u001b[31m2.6 MB/s\u001b[0m eta \u001b[36m0:00:00\u001b[0m\n",
            "\u001b[2K     \u001b[90m━━━━━━━━━━━━━━━━━━━━━━━━━━━━━━━━━━━━━━━━\u001b[0m \u001b[32m1.8/1.8 MB\u001b[0m \u001b[31m60.2 MB/s\u001b[0m eta \u001b[36m0:00:00\u001b[0m\n",
            "\u001b[2K     \u001b[90m━━━━━━━━━━━━━━━━━━━━━━━━━━━━━━━━━━━━━━━━\u001b[0m \u001b[32m40.0/40.0 kB\u001b[0m \u001b[31m4.6 MB/s\u001b[0m eta \u001b[36m0:00:00\u001b[0m\n",
            "\u001b[2K     \u001b[90m━━━━━━━━━━━━━━━━━━━━━━━━━━━━━━━━━━━━━━━━\u001b[0m \u001b[32m49.4/49.4 kB\u001b[0m \u001b[31m6.1 MB/s\u001b[0m eta \u001b[36m0:00:00\u001b[0m\n",
            "\u001b[?25h"
          ]
        }
      ],
      "source": [
        "# !pip install ffmpeg\n",
        "# !pip install openai-whisper pytube\n",
        "# !pip install openai tiktoken langchain"
      ]
    },
    {
      "cell_type": "markdown",
      "metadata": {
        "id": "gdwIV5IDUM_b"
      },
      "source": [
        "## Download YouTube video\n",
        "\n",
        "[동기부여와 위로가 되는 드라마 속 명대사 모음](https://youtu.be/7q50haa4_XI?si=5yNFLr2-Dr4gtfPn) - 짧은 명언 유튜브 채널"
      ]
    },
    {
      "cell_type": "code",
      "execution_count": null,
      "metadata": {
        "colab": {
          "base_uri": "https://localhost:8080/",
          "height": 36
        },
        "id": "Z0MVmwOQX0Ko",
        "outputId": "4bbd761b-8445-447f-b48d-7712e5b07c72"
      },
      "outputs": [
        {
          "data": {
            "text/plain": [
              "'d:\\\\envs\\\\video_summary_AI\\\\.\\\\input.mp3'"
            ]
          },
          "execution_count": 3,
          "metadata": {},
          "output_type": "execute_result"
        }
      ],
      "source": [
        "from pytube import YouTube\n",
        "\n",
        "yt = YouTube('https://youtu.be/7q50haa4_XI?si=5yNFLr2-Dr4gtfPn')\n",
        "\n",
        "yt.streams.filter(only_audio=True).first().download(\n",
        "    output_path='.', filename='input.mp3')"
      ]
    },
    {
      "cell_type": "markdown",
      "metadata": {
        "id": "YkFBJYpGUQoI"
      },
      "source": [
        "## Transcribe"
      ]
    },
    {
      "cell_type": "code",
      "execution_count": null,
      "metadata": {
        "colab": {
          "base_uri": "https://localhost:8080/"
        },
        "id": "qVlpeceUXPkU",
        "outputId": "95fd096b-1fbb-4636-e0df-955a172c7dc9"
      },
      "outputs": [
        {
          "name": "stderr",
          "output_type": "stream",
          "text": [
            "100%|█████████████████████████████████████| 1.42G/1.42G [05:42<00:00, 4.47MiB/s]\n"
          ]
        }
      ],
      "source": [
        "import whisper\n",
        "\n",
        "model = whisper.load_model(\"medium\")"
      ]
    },
    {
      "cell_type": "markdown",
      "metadata": {
        "id": "_N-P3paimK7a"
      },
      "source": [
        "30초 이상 오디오 데이터 처리 방법\n",
        "\n",
        "https://github.com/openai/whisper/discussions/136"
      ]
    },
    {
      "cell_type": "code",
      "execution_count": null,
      "metadata": {
        "colab": {
          "base_uri": "https://localhost:8080/",
          "height": 53
        },
        "id": "NolAjGyKXhxT",
        "outputId": "b1908a79-7472-4d21-835a-69d71bf7340e"
      },
      "outputs": [
        {
          "data": {
            "text/plain": [
              "' 안 될 거라고 미리 정해놓고 그래서 뭘 하겠어요? 해보고 판단해야지. 포기하는 순간 핑계껄을 찾게 되고 할 수 있다는 생각하는 순간에 방법을 찾는다고. 절 싫어할 이유가 정말로 없으니까. 벌써부터 포기하지 말고 마지막까지 최선을 다하다 보면 나중에 좋은 결과 나오지 않을까? 내 발자국 이런 걸 그냥 재수없었다 치고 살아야지. 어쩔 수 없잖아. 발자국 다 재수 탓이라 하면서 그런다고 하면 누가 동작이나 해줄 것 같아? 그렇게 알아서 포기해 주는 사람은 세상도 별로 관심이 없어. 어디 세상 뿐이야? 당신 아들도 그렇게 보고 기억하고 배우겠지. 발자국 다 재수 탓이라 하고 뭐 어쩔 수 없는 세상이라고. 다 알아서 포기해 주는 거야? 다리를 잃어도 돈이 없으면 어쩔 수 없는 거라고. 그렇게 자포자기 하는 그런 아버지라고. 그렇게. 어쩔 수 없는 게 아니라 귀찮은 거잖아 사실은. 예의도 없고 경우도 없고 상식도 없는 놈들 상대하는 거 그거 아주 이제 더럽고 치사해서 피곤하기도 하고 지쳐서 그래서 피하고 싶은 거잖아. 어쩔 수 없다는 핑계 대면서. 이 싸움 정말로 그만두고 싶다면 너답게 네 방식대로 그만두어. 아무리 돈이 없고 화가 나고 무시당하고 자존심 상해도 절대로 타협하지 말아야 될 게 있어. 그게 바로 양심이라는 거야. 넌 그 양심 지키기 위해서 어디까지 해봤어? 어디까지 버텨봤는데? 너 그냥 되는 대로 사는 거잖아. 네 욕심대로. 양심하고 욕심하고 헷갈리면 안 되지. 내가 왜 이렇게 맨날 너만 억울하지? 누가 그럽디다? 포기하는 순간 핑계껄 찾게 되고 할 수 있다는 생각하는 순간에 방법을 찾는다고. 단장님 야구 잘 모르신다고 했던 거 같은데. 네 지금도 잘 몰라요. 원래 그렇게 남 시선을 잘 의식 안 하세요? 무슨 말입니까 그게? 저는 아닌데 저 진짜 아닙니다. 사람들이 야구를 책으로 배운다고 막 비웃고 그러기도 하더라고요. 남들이 비웃는 게 무서워서 책으로도 안 배우면 누가 저한테 알려줍니까? 그런 사람들이 알려줄 때까지 기다릴까요? 1년 뒤에도 야구 모르는 게 진짜 창피한 거 아닙니까? 지금 소유권 왜 안 깐 고치하고요? 이제 고쳐야죠. 수 한 번 잃었는데 왜 안 고칩니까? 안 고치는 놈은 다시는 속 못 기웁니다. 애초에 우리가 이길 수 없는 게임이었어요. 돈이 없어서 졌다. 과외를 못 해서 대학을 못 갔다. 몸이 아파서 졌다. 모두가 같은 환경일 수가 없고 각자 가진 무기 가지고 싸우는 건데 핑계되기 시작하면 똑같은 상황에서 또 집니다. 절실할 이유가 정말로 없습니까? 가난해서 못 배워서 범죄자라서 안 된다고? 안 될 거라고 미리 정해놓고 그래서 뭘 하겠어요? 해보고 판단해야지. 니 논리를 나한테 납득시키지 말라는 거야. 니 인생은 쫑났냐? 자기 값을 매기는 호구새끼야. 공부? 노가다, 원형어선? 그렇게 시작하면 돼. 필요한 건 다 할 거야. 내 가치를 니가 정하지 마. 내 인생 이제 시작이구나! 원하는 거 다 이루면서 살 거야. 분명 시간은 누구에게는 공평하게 흐른다. 하지만 그와 나의 시간은 그 농도가 너무나도 달랐다. 그래도 지금만 한 번 참고 넘어가면 다 해결이... 지금 한 번! 지금만 한 번, 마지막으로 한 번, 또 또 한 번! 순간에 편하겠지? 근데 말이야 그 한 번들로 사람은 변하는 거야. 나나 국장처럼 다 식어 빠져서 딱딱하게 굳어진 기름 덩어리가 아니라 이제 막 팔팔 끓기 시작했으니까. 그러니까 정말 많이 힘들겠지만 꺾이지 말고 옆에서 누가 뭐라고 짓거리더니 가네. 그 불 끄지 말고 더 뜨겁게 끌었으면 좋겠어. 나름 열심히 한다고 하는데 아무리 노력해도 마지막 문은 열리지가 않네요. 벌써부터 포기하지 말고 마지막까지 최선을 다 하다 보면 나중에 좋은 결과 나오지 않을까? 길이 없으면 어떻게 해야 합니까? 길을 만들어야죠. 아니요. 그런 건 일을 제대로 해본 적 없는 사람들이 하는 소리죠. 길 같은 건 필요 없습니다. 길을 찾지 마세요. 그냥 하던 일을 계속하시면 되는 겁니다. 그러다가 성공하면 다른 사람들이 그걸 길이라고 부르는 법이니까. 혹시 압니까? 생각지도 못한 일이 벌어질지. 분명한 건 너 어디서든 잘해낼 거라는 거야. 네가 어떤 길을 가든 어떤 선택을 하든 네 자신을 의심하지 마. 알았니?'"
            ]
          },
          "execution_count": 18,
          "metadata": {},
          "output_type": "execute_result"
        }
      ],
      "source": [
        "result = model.transcribe(\"input.mp3\")\n",
        "\n",
        "result[\"text\"][:]"
      ]
    },
    {
      "cell_type": "code",
      "execution_count": null,
      "metadata": {
        "colab": {
          "base_uri": "https://localhost:8080/"
        },
        "id": "AfZCB8rmZLbM",
        "outputId": "b01f1e2c-7c79-4aa3-bbe6-1e552079b15a"
      },
      "outputs": [
        {
          "data": {
            "text/plain": [
              "[{'id': 0,\n",
              "  'seek': 0,\n",
              "  'start': 0.0,\n",
              "  'end': 3.2,\n",
              "  'text': ' 안 될 거라고 미리 정해놓고 그래서 뭘 하겠어요?',\n",
              "  'tokens': [50364,\n",
              "   4811,\n",
              "   16625,\n",
              "   15805,\n",
              "   6954,\n",
              "   17472,\n",
              "   14981,\n",
              "   4980,\n",
              "   14841,\n",
              "   47441,\n",
              "   8844,\n",
              "   32376,\n",
              "   3369,\n",
              "   30826,\n",
              "   30,\n",
              "   50524],\n",
              "  'temperature': 0.0,\n",
              "  'avg_logprob': -0.3292054195030063,\n",
              "  'compression_ratio': 1.4128787878787878,\n",
              "  'no_speech_prob': 0.29328134655952454},\n",
              " {'id': 1,\n",
              "  'seek': 0,\n",
              "  'start': 3.2,\n",
              "  'end': 5.2,\n",
              "  'text': ' 해보고 판단해야지.',\n",
              "  'tokens': [50524, 11134, 34400, 35008, 8605, 27644, 1831, 13, 50624],\n",
              "  'temperature': 0.0,\n",
              "  'avg_logprob': -0.3292054195030063,\n",
              "  'compression_ratio': 1.4128787878787878,\n",
              "  'no_speech_prob': 0.29328134655952454},\n",
              " {'id': 2,\n",
              "  'seek': 0,\n",
              "  'start': 5.2,\n",
              "  'end': 8.2,\n",
              "  'text': ' 포기하는 순간 핑계껄을 찾게 되고',\n",
              "  'tokens': [50624,\n",
              "   17101,\n",
              "   2401,\n",
              "   7116,\n",
              "   44588,\n",
              "   45549,\n",
              "   14597,\n",
              "   11219,\n",
              "   226,\n",
              "   1638,\n",
              "   18283,\n",
              "   1810,\n",
              "   30597,\n",
              "   50774],\n",
              "  'temperature': 0.0,\n",
              "  'avg_logprob': -0.3292054195030063,\n",
              "  'compression_ratio': 1.4128787878787878,\n",
              "  'no_speech_prob': 0.29328134655952454}]"
            ]
          },
          "execution_count": 19,
          "metadata": {},
          "output_type": "execute_result"
        }
      ],
      "source": [
        "result[\"segments\"][:3]"
      ]
    },
    {
      "cell_type": "code",
      "execution_count": null,
      "metadata": {
        "colab": {
          "base_uri": "https://localhost:8080/"
        },
        "id": "6gaee1ccZTgz",
        "outputId": "52d8a530-8fd3-40d9-814c-69ec887d0880"
      },
      "outputs": [
        {
          "data": {
            "text/plain": [
              "2061"
            ]
          },
          "execution_count": 20,
          "metadata": {},
          "output_type": "execute_result"
        }
      ],
      "source": [
        "len(result[\"text\"])"
      ]
    },
    {
      "cell_type": "markdown",
      "metadata": {
        "id": "9SemXn9jmRlN"
      },
      "source": [
        "## Map-reduce summarization\n",
        "\n",
        "https://python.langchain.com/docs/use_cases/summarization#option-2-map-reduce\n",
        "\n",
        "한글 설명: https://teddylee777.github.io/langchain/langchain-tutorial-07/\n",
        "\n",
        "![](https://i.imgur.com/2jJ0unq.jpg)"
      ]
    },
    {
      "cell_type": "markdown",
      "metadata": {
        "id": "f2qcpBZ9mY1H"
      },
      "source": [
        "### Text splitter"
      ]
    },
    {
      "cell_type": "code",
      "execution_count": null,
      "metadata": {
        "colab": {
          "base_uri": "https://localhost:8080/"
        },
        "id": "5XWJ3toqh1kZ",
        "outputId": "97b4a119-03a0-4e8b-8f2e-66f7f5994bdb"
      },
      "outputs": [
        {
          "data": {
            "text/plain": [
              "3"
            ]
          },
          "execution_count": 21,
          "metadata": {},
          "output_type": "execute_result"
        }
      ],
      "source": [
        "from langchain.text_splitter import RecursiveCharacterTextSplitter\n",
        "from langchain.schema.document import Document\n",
        "\n",
        "text_splitter = RecursiveCharacterTextSplitter(\n",
        "    chunk_size=800,\n",
        "    chunk_overlap=30,\n",
        "    length_function=len,\n",
        ")\n",
        "\n",
        "docs = [Document(page_content=x) for x in text_splitter.split_text(result[\"text\"])]\n",
        "\n",
        "split_docs = text_splitter.split_documents(docs)\n",
        "\n",
        "len(split_docs)"
      ]
    },
    {
      "cell_type": "code",
      "execution_count": null,
      "metadata": {
        "colab": {
          "base_uri": "https://localhost:8080/"
        },
        "id": "BVjDfLm4jVxj",
        "outputId": "0862712c-497b-4f98-bd0c-89682d7f6585"
      },
      "outputs": [
        {
          "data": {
            "text/plain": [
              "[Document(page_content='안 될 거라고 미리 정해놓고 그래서 뭘 하겠어요? 해보고 판단해야지. 포기하는 순간 핑계껄을 찾게 되고 할 수 있다는 생각하는 순간에 방법을 찾는다고. 절 싫어할 이유가 정말로 없으니까. 벌써부터 포기하지 말고 마지막까지 최선을 다하다 보면 나중에 좋은 결과 나오지 않을까? 내 발자국 이런 걸 그냥 재수없었다 치고 살아야지. 어쩔 수 없잖아. 발자국 다 재수 탓이라 하면서 그런다고 하면 누가 동작이나 해줄 것 같아? 그렇게 알아서 포기해 주는 사람은 세상도 별로 관심이 없어. 어디 세상 뿐이야? 당신 아들도 그렇게 보고 기억하고 배우겠지. 발자국 다 재수 탓이라 하고 뭐 어쩔 수 없는 세상이라고. 다 알아서 포기해 주는 거야? 다리를 잃어도 돈이 없으면 어쩔 수 없는 거라고. 그렇게 자포자기 하는 그런 아버지라고. 그렇게. 어쩔 수 없는 게 아니라 귀찮은 거잖아 사실은. 예의도 없고 경우도 없고 상식도 없는 놈들 상대하는 거 그거 아주 이제 더럽고 치사해서 피곤하기도 하고 지쳐서 그래서 피하고 싶은 거잖아. 어쩔 수 없다는 핑계 대면서. 이 싸움 정말로 그만두고 싶다면 너답게 네 방식대로 그만두어. 아무리 돈이 없고 화가 나고 무시당하고 자존심 상해도 절대로 타협하지 말아야 될 게 있어. 그게 바로 양심이라는 거야. 넌 그 양심 지키기 위해서 어디까지 해봤어? 어디까지 버텨봤는데? 너 그냥 되는 대로 사는 거잖아. 네 욕심대로. 양심하고 욕심하고 헷갈리면 안 되지. 내가 왜 이렇게 맨날 너만 억울하지? 누가 그럽디다? 포기하는 순간 핑계껄 찾게 되고 할 수 있다는 생각하는 순간에 방법을 찾는다고. 단장님'),\n",
              " Document(page_content='수 있다는 생각하는 순간에 방법을 찾는다고. 단장님 야구 잘 모르신다고 했던 거 같은데. 네 지금도 잘 몰라요. 원래 그렇게 남 시선을 잘 의식 안 하세요? 무슨 말입니까 그게? 저는 아닌데 저 진짜 아닙니다. 사람들이 야구를 책으로 배운다고 막 비웃고 그러기도 하더라고요. 남들이 비웃는 게 무서워서 책으로도 안 배우면 누가 저한테 알려줍니까? 그런 사람들이 알려줄 때까지 기다릴까요? 1년 뒤에도 야구 모르는 게 진짜 창피한 거 아닙니까? 지금 소유권 왜 안 깐 고치하고요? 이제 고쳐야죠. 수 한 번 잃었는데 왜 안 고칩니까? 안 고치는 놈은 다시는 속 못 기웁니다. 애초에 우리가 이길 수 없는 게임이었어요. 돈이 없어서 졌다. 과외를 못 해서 대학을 못 갔다. 몸이 아파서 졌다. 모두가 같은 환경일 수가 없고 각자 가진 무기 가지고 싸우는 건데 핑계되기 시작하면 똑같은 상황에서 또 집니다. 절실할 이유가 정말로 없습니까? 가난해서 못 배워서 범죄자라서 안 된다고? 안 될 거라고 미리 정해놓고 그래서 뭘 하겠어요? 해보고 판단해야지. 니 논리를 나한테 납득시키지 말라는 거야. 니 인생은 쫑났냐? 자기 값을 매기는 호구새끼야. 공부? 노가다, 원형어선? 그렇게 시작하면 돼. 필요한 건 다 할 거야. 내 가치를 니가 정하지 마. 내 인생 이제 시작이구나! 원하는 거 다 이루면서 살 거야. 분명 시간은 누구에게는 공평하게 흐른다. 하지만 그와 나의 시간은 그 농도가 너무나도 달랐다. 그래도 지금만 한 번 참고 넘어가면 다 해결이... 지금 한 번! 지금만 한 번, 마지막으로 한 번, 또 또 한 번! 순간에'),\n",
              " Document(page_content='한 번, 마지막으로 한 번, 또 또 한 번! 순간에 편하겠지? 근데 말이야 그 한 번들로 사람은 변하는 거야. 나나 국장처럼 다 식어 빠져서 딱딱하게 굳어진 기름 덩어리가 아니라 이제 막 팔팔 끓기 시작했으니까. 그러니까 정말 많이 힘들겠지만 꺾이지 말고 옆에서 누가 뭐라고 짓거리더니 가네. 그 불 끄지 말고 더 뜨겁게 끌었으면 좋겠어. 나름 열심히 한다고 하는데 아무리 노력해도 마지막 문은 열리지가 않네요. 벌써부터 포기하지 말고 마지막까지 최선을 다 하다 보면 나중에 좋은 결과 나오지 않을까? 길이 없으면 어떻게 해야 합니까? 길을 만들어야죠. 아니요. 그런 건 일을 제대로 해본 적 없는 사람들이 하는 소리죠. 길 같은 건 필요 없습니다. 길을 찾지 마세요. 그냥 하던 일을 계속하시면 되는 겁니다. 그러다가 성공하면 다른 사람들이 그걸 길이라고 부르는 법이니까. 혹시 압니까? 생각지도 못한 일이 벌어질지. 분명한 건 너 어디서든 잘해낼 거라는 거야. 네가 어떤 길을 가든 어떤 선택을 하든 네 자신을 의심하지 마. 알았니?')]"
            ]
          },
          "execution_count": 22,
          "metadata": {},
          "output_type": "execute_result"
        }
      ],
      "source": [
        "split_docs"
      ]
    },
    {
      "cell_type": "markdown",
      "metadata": {
        "id": "p2W1jxOXpt-E"
      },
      "source": [
        "### Prompts"
      ]
    },
    {
      "cell_type": "code",
      "execution_count": null,
      "metadata": {
        "id": "bv9-YRZqZpQG"
      },
      "outputs": [],
      "source": [
        "from langchain.chains.mapreduce import MapReduceChain\n",
        "from langchain.chains import ReduceDocumentsChain, MapReduceDocumentsChain\n",
        "from langchain.chat_models import ChatOpenAI\n",
        "from langchain.chains.llm import LLMChain\n",
        "from langchain.prompts import PromptTemplate\n",
        "from langchain.chains.combine_documents.stuff import StuffDocumentsChain\n",
        "\n",
        "openai_api_key = \"openai_api_key\"\n",
        "\n",
        "llm = ChatOpenAI(temperature=0, openai_api_key=openai_api_key)\n",
        "\n",
        "# Map prompt\n",
        "map_template = \"\"\"The following is a set of documents\n",
        "{docs}\n",
        "Based on this list of docs, please identify the main themes\n",
        "Helpful Answer:\"\"\"\n",
        "\n",
        "map_prompt = PromptTemplate.from_template(map_template)\n",
        "\n",
        "# Reduce prompt\n",
        "reduce_template = \"\"\"The following is set of summaries:\n",
        "{doc_summaries}\n",
        "Take these and distill it into a final, consolidated summary of the main themes.\n",
        "The final answer is a single paragraph of about 100 words and must be in Korean.\n",
        "Helpful Answer:\"\"\"\n",
        "\n",
        "reduce_prompt = PromptTemplate.from_template(reduce_template)"
      ]
    },
    {
      "cell_type": "markdown",
      "metadata": {
        "id": "tV52dud-pvil"
      },
      "source": [
        "### Map-Reduce chains"
      ]
    },
    {
      "cell_type": "code",
      "execution_count": null,
      "metadata": {
        "id": "Xn-H08CYb01s"
      },
      "outputs": [],
      "source": [
        "# 1. Reduce chain\n",
        "reduce_chain = LLMChain(llm=llm, prompt=reduce_prompt)\n",
        "\n",
        "# Takes a list of documents, combines them into a single string, and passes this to an LLMChain\n",
        "combine_documents_chain = StuffDocumentsChain(\n",
        "    llm_chain=reduce_chain, document_variable_name=\"doc_summaries\"\n",
        ")\n",
        "\n",
        "# Combines and iteravely reduces the mapped documents\n",
        "reduce_documents_chain = ReduceDocumentsChain(\n",
        "    # This is final chain that is called.\n",
        "    combine_documents_chain=combine_documents_chain,\n",
        "    # If documents exceed context for `StuffDocumentsChain`\n",
        "    collapse_documents_chain=combine_documents_chain,\n",
        "    # The maximum number of tokens to group documents into.\n",
        "    token_max=4000,\n",
        ")\n",
        "\n",
        "# 2. Map chain\n",
        "map_chain = LLMChain(llm=llm, prompt=map_prompt)\n",
        "\n",
        "# Combining documents by mapping a chain over them, then combining results\n",
        "map_reduce_chain = MapReduceDocumentsChain(\n",
        "    # Map chain\n",
        "    llm_chain=map_chain,\n",
        "    # Reduce chain\n",
        "    reduce_documents_chain=reduce_documents_chain,\n",
        "    # The variable name in the llm_chain to put the documents in\n",
        "    document_variable_name=\"docs\",\n",
        "    # Return the results of the map steps in the output\n",
        "    return_intermediate_steps=False,\n",
        ")"
      ]
    },
    {
      "cell_type": "markdown",
      "metadata": {
        "id": "2W3KU9GfpySv"
      },
      "source": [
        "### Run"
      ]
    },
    {
      "cell_type": "code",
      "execution_count": null,
      "metadata": {
        "colab": {
          "base_uri": "https://localhost:8080/"
        },
        "id": "UugYRovwdXhG",
        "outputId": "223e805b-0a19-4361-870e-41d050a8e302"
      },
      "outputs": [
        {
          "name": "stdout",
          "output_type": "stream",
          "text": [
            "주어진 문서를 기반으로 한 주요 주제는 다음과 같습니다. 첫째, 포기하지 않고 인내하는 것의 중요성. 문서들은 어려운 상황에서도 포기하지 않고 최선을 다해야 한다는 중요성을 강조합니다. 둘째, 책임을 지고 해결책을 찾는 것. 문서들은 변명을 하거나 외부 요인을 탓하는 대신 개인이 자신의 행동에 책임을 져야 하며 도전에 대처하는 방법을 찾아야 한다고 제안합니다. 셋째, 자립과 독립성. 문서들은 자신에게 의존하고 다른 사람들이 문제를 해결하거나 자신을 포기하지 않기를 기대하지 말아야 한다는 생각을 강조합니다. 넷째, 양심과 무결성. 문서들은 어려운 상황에서도 양심과 무결성을 유지하는 것의 중요성을 언급하며 원칙을 어기지 않아야 한다고 말합니다. 다섯째, 좌절과 피로. 문서들은 예의, 상식, 배려심이 없는 사람들과 상호작용할 때의 좌절과 피로감을 표현하며 이러한 상황을 피하고 싶어합니다. 여섯째, 개인적인 성장과 배움. 문서들은 개인이 경험으로부터 배우고 도전과 실패에 직면해도 스스로를 발전시키려고 노력해야 한다고 제안합니다. 일곱째, 재정적 제약과 그 영향. 문서들은 재정적 제약이 개인의 어려움을 극복하는 능력에 미치는 영향을 언급하며 재정적 제약에도 불구하고 해결책을 찾아야 한다는 필요성을 강조합니다. 여덟째, 부모의 영향과 롤 모델링. 문서들은 부모의 태도와 행동이 자녀의 인식과 행동에 미치는 영향을 언급하며 자녀들이 부모로부터 배울 수 있다고 말합니다. 아홉째, 개성과 개인적 선택. 문서들은 개성과 자신의 욕망과 야망에 기반한 개인적 선택의 중요성을 강조하며 양심과 탐욕을 혼동하지 말아야 한다고 말합니다. 열째, 감정적 고통과 불공정함. 문서들은 불공정하게 대우받는 감정과 다른 사람들이 이러한 감정을 이해하고 공감하기를 바라는 욕망을 표현합니다. 열한째, 갈등 해결과 개인적 선호. 문서들은 싸움이나 갈등을 종결하고 싶다면 개인의 방식으로 해결해야 하며 재정적 어려움이나 감정적 고통에 직면하더라도 원칙을 양보하지 말아야 한다고 제안합니다. 주어진 문서 목록을 기반으로 한 주요 주제를 구체적으로 파악하기 위해서는 문서 내용에 대한 추가적인 문맥이나 정보가 필요합니다. 문서들은 개인적인 생각, 대화, 진술 등의 혼합물이지만 더 많은 정보가 없으면 특정 주제를 식별하기 어렵습니다. 주어진 문서를 기반으로 한 주요 주제는 다음과 같습니다. 첫째, 인내와 탄력성. 문서들은 어려움과 도전에 직면해도 포기하지 않고 열심히 노력하는 것의 중요성을 강조합니다. 둘째, 자신을 믿고 자신감. 문서들은 개인이 선택한 길이나 다른 사람들의 의견에 상관없이 자신과 자신의 능력에 믿음을 가져야 한다고 장려합니다. 셋째, 자신만의 길을 찾기. 문서들은 미리 정해진 길을 따르거나 다른 사람들로부터 인정을 받을 필요가 없다고 제안합니다. 대신 개인은 자신이 열정적으로 추구하는 일에 집중하고 노력을 계속해야 하며 결국 성공에 이를 수 있다고 강조합니다. 넷째, 장애물 극복. 문서들은 길에는 장애물과 실패가 있을 수 있다고 인정하지만 결단력을 유지하고 내면의 불꽃이 꺼지지 않도록 하는 것의 중요성을 강조합니다. 다섯째, 예상치 못한 결과. 문서들은 노력과 인내로 인해 예상치 못한 긍정적 결과가 나타날 수 있다고 제안합니다. 최종적으로, 주요 주제는 개인적인 성장, 자신감, 인내력, 그리고 자신에게 충실해야 하는 중요성을 중심으로 돌아갑니다.\n"
          ]
        }
      ],
      "source": [
        "sum_result = map_reduce_chain.run(split_docs)\n",
        "\n",
        "print(sum_result)"
      ]
    },
    {
      "cell_type": "markdown",
      "metadata": {
        "id": "b_vqmMXSXqAN"
      },
      "source": [
        "### Result\n",
        "\n",
        "주어진 문서를 기반으로 주요 주제는 다음과 같이 요약될 수 있습니다.\n",
        "\n",
        "-  첫 번째로, 노력과 인내라는 주제가 강조됩니다. 어려움과 도전에도 불구하고 포기하지 않고 끊임없이 노력하는 것의 중요성이 강조됩니다.\n",
        "\n",
        "- 두 번째로, 자신감과 자신을 믿는 것이 강조됩니다. 다른 사람들의 의심과 비판에도 불구하고 자신의 능력을 의심하지 않고 자신을 믿는 것이 중요하다는 주제가 나타납니다.\n",
        "\n",
        "- 세 번째로, 성공과 인정이라는 주제가 나타납니다. 성공하면 다른 사람들이 인정하고 길이라고 부를 것이라는 주장이 제시됩니다.\n",
        "\n",
        "- 네 번째로, 예기치 않은 사건이 발생할 수 있다는 주제가 나타납니다. 삶은 예측할 수 없으며 예기치 않은 일이 벌어질 수 있다는 것을 강조합니다.\n",
        "\n",
        "- 마지막으로, 주제는 동기부여와 의욕입니다. 계속해서 노력하고 포기하지 않으면 언젠가는 성공할 것이라는 동기부여와 의욕을 강조합니다.\n",
        "\n",
        "- 이 문서들의 주요 테마는 노력과 인내, 자신감과 자신을 믿음, 성공과 인정, 예기치 않은 사건, 그리고 동기부여와 의욕입니다."
      ]
    },
    {
      "cell_type": "markdown",
      "metadata": {
        "id": "YvmZxgnL9TXB"
      },
      "source": [
        "## UI using Gradio\n",
        "\n",
        "외국어 -> 한국어 가능\n",
        "\n",
        "https://www.youtube.com/watch?v=BAfOGBojiEU\n",
        "\n",
        "![](https://i.imgur.com/jlStgkT.png)"
      ]
    },
    {
      "cell_type": "code",
      "execution_count": null,
      "metadata": {
        "id": "ZVbrAN97ga9j",
        "outputId": "a94896af-d710-4aa4-bc82-6b15064e0b79"
      },
      "outputs": [
        {
          "name": "stdout",
          "output_type": "stream",
          "text": [
            "Running on local URL:  http://127.0.0.1:7861\n",
            "\n",
            "Could not create share link. Please check your internet connection or our status page: https://status.gradio.app.\n"
          ]
        },
        {
          "data": {
            "text/html": [
              "<div><iframe src=\"http://127.0.0.1:7861/\" width=\"100%\" height=\"500\" allow=\"autoplay; camera; microphone; clipboard-read; clipboard-write;\" frameborder=\"0\" allowfullscreen></iframe></div>"
            ],
            "text/plain": [
              "<IPython.core.display.HTML object>"
            ]
          },
          "metadata": {},
          "output_type": "display_data"
        },
        {
          "name": "stdout",
          "output_type": "stream",
          "text": [
            "Keyboard interruption in main thread... closing server.\n"
          ]
        },
        {
          "data": {
            "text/plain": []
          },
          "execution_count": 30,
          "metadata": {},
          "output_type": "execute_result"
        }
      ],
      "source": [
        "import gradio as gr\n",
        "import re\n",
        "# from pytube import YouTube  # Make sure to import the YouTube class\n",
        "# from transcription_module import model  # Import your transcription model\n",
        "# from text_splitter_module import text_splitter  # Import your text splitter\n",
        "# from document_module import Document  # Import your Document class\n",
        "# from map_reduce_module import map_reduce_chain  # Import your map_reduce_chain\n",
        "\n",
        "def extract_video_id(url):\n",
        "    youtube_regex = (r'(https?://)?(www\\.)?'\n",
        "        '(youtube|youtu|youtube-nocookie)\\.(com|be)/'\n",
        "        '(watch\\?v=|embed/|v/|.+\\?v=)?([^&=%\\?]{11})')\n",
        "    youtube_pattern = re.compile(youtube_regex)\n",
        "    match = youtube_pattern.match(url)\n",
        "    if not match:\n",
        "        return None\n",
        "    return match.group(6)\n",
        "\n",
        "def summarize(url):\n",
        "    yt = YouTube(url)\n",
        "\n",
        "    yt.streams.filter(only_audio=True).first().download(\n",
        "        output_path='.', filename='input.mp3')\n",
        "\n",
        "    result = model.transcribe(\"input.mp3\")\n",
        "\n",
        "    docs = [Document(page_content=x) for x in text_splitter.split_text(result[\"text\"])]\n",
        "    split_docs = text_splitter.split_documents(docs)\n",
        "\n",
        "    sum_result = map_reduce_chain.run(split_docs)\n",
        "\n",
        "    video_id = extract_video_id(url)\n",
        "    embed = f\"\"\"<iframe width='560' height='315' src='https://www.youtube.com/embed/{video_id}' frameborder='0' allowfullscreen></iframe>\"\"\"\n",
        "\n",
        "    return sum_result, embed\n",
        "\n",
        "demo = gr.Interface(\n",
        "    fn=summarize,\n",
        "    inputs=gr.Textbox(label=\"URL\"),\n",
        "    outputs=[gr.TextArea(label=\"Summary\"), gr.HTML()],\n",
        ")\n",
        "\n",
        "demo.launch(debug=True, share=True)\n"
      ]
    }
  ],
  "metadata": {
    "accelerator": "GPU",
    "colab": {
      "gpuType": "T4",
      "provenance": [],
      "include_colab_link": true
    },
    "kernelspec": {
      "display_name": "Python 3",
      "name": "python3"
    },
    "language_info": {
      "codemirror_mode": {
        "name": "ipython",
        "version": 3
      },
      "file_extension": ".py",
      "mimetype": "text/x-python",
      "name": "python",
      "nbconvert_exporter": "python",
      "pygments_lexer": "ipython3",
      "version": "3.9.18"
    }
  },
  "nbformat": 4,
  "nbformat_minor": 0
}